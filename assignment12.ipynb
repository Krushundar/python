{
 "cells": [
  {
   "cell_type": "code",
   "execution_count": 4,
   "id": "654db262-1c78-4da0-bc4e-6ba3a314fe9d",
   "metadata": {},
   "outputs": [
    {
     "name": "stdout",
     "output_type": "stream",
     "text": [
      "[40 51 56 67]\n",
      "<class 'numpy.ndarray'>\n",
      "[[40 51]\n",
      " [56 67]]\n",
      "<class 'numpy.ndarray'>\n",
      "(2, 2)\n",
      "[[40 51 65]\n",
      " [56 67 85]]\n",
      "<class 'numpy.ndarray'>\n",
      "(2, 3)\n",
      "[['1' 'A' '9.8']\n",
      " ['2' 'B' '10']]\n",
      "<class 'numpy.ndarray'>\n",
      "(2, 3)\n"
     ]
    }
   ],
   "source": [
    "import numpy as np\n",
    "\n",
    "\n",
    "# In[3]:\n",
    "\n",
    "\n",
    "#dir(np)\n",
    "\n",
    "\n",
    "# In[5]:\n",
    "\n",
    "\n",
    "x = np.array([40,51,56,67,])\n",
    "print(x)\n",
    "print(type(x))\n",
    "\n",
    "\n",
    "# In[13]:\n",
    "\n",
    "\n",
    "#create 2D array\n",
    "import numpy as np\n",
    "a2 = np.array([[40,51],[56,67,]])\n",
    "print(a2)\n",
    "print(type(a2))\n",
    "print(a2.shape)\n",
    "\n",
    "\n",
    "# In[16]:\n",
    "\n",
    "\n",
    "#create 3D array\n",
    "import numpy as np\n",
    "a3 = np.array([[40,51,65],[56,67,85]])\n",
    "print(a3)\n",
    "print(type(a3))\n",
    "print(a3.shape)\n",
    "\n",
    "\n",
    "# In[1]:\n",
    "\n",
    "\n",
    "import numpy as np\n",
    "\n",
    "a4 = np.array([[1, 'A', 9.8], [2, 'B', 10]])\n",
    "\n",
    "print(a4)\n",
    "print(type(a4))\n",
    "print(a4.shape)\n",
    "\n"
   ]
  },
  {
   "cell_type": "code",
   "execution_count": null,
   "id": "4a0dbaa2-e221-4081-a9ce-9fd8cec1ce25",
   "metadata": {},
   "outputs": [],
   "source": []
  }
 ],
 "metadata": {
  "kernelspec": {
   "display_name": "Python 3 (ipykernel)",
   "language": "python",
   "name": "python3"
  },
  "language_info": {
   "codemirror_mode": {
    "name": "ipython",
    "version": 3
   },
   "file_extension": ".py",
   "mimetype": "text/x-python",
   "name": "python",
   "nbconvert_exporter": "python",
   "pygments_lexer": "ipython3",
   "version": "3.12.7"
  }
 },
 "nbformat": 4,
 "nbformat_minor": 5
}
