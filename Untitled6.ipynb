{
 "cells": [
  {
   "cell_type": "code",
   "execution_count": null,
   "id": "7e69c25b-8881-49bf-996a-e07de1c6a1ba",
   "metadata": {},
   "outputs": [],
   "source": []
  }
 ],
 "metadata": {
  "kernelspec": {
   "display_name": "",
   "name": ""
  },
  "language_info": {
   "name": ""
  }
 },
 "nbformat": 4,
 "nbformat_minor": 5
}
