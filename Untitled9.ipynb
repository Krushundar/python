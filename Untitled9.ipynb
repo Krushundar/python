{
 "cells": [
  {
   "cell_type": "code",
   "execution_count": null,
   "id": "1fad2afa-e456-4710-99ef-5867164638a7",
   "metadata": {},
   "outputs": [],
   "source": []
  }
 ],
 "metadata": {
  "kernelspec": {
   "display_name": "",
   "name": ""
  },
  "language_info": {
   "name": ""
  }
 },
 "nbformat": 4,
 "nbformat_minor": 5
}
