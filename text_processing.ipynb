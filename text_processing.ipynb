{
 "cells": [
  {
   "cell_type": "code",
   "execution_count": 4,
   "id": "5a80aed3-5f26-4f9d-b192-6a72904405e0",
   "metadata": {},
   "outputs": [
    {
     "name": "stdout",
     "output_type": "stream",
     "text": [
      "Hello  world Let's remove punctuationmarks shall we\n"
     ]
    }
   ],
   "source": [
    "punctuation_marks = ['.',',','!','?',':','-','_','\"','(',')','[',']','{','}','/','\\\\','@','#','$','%','^','&','*','|','+','=','~']\n",
    "input_text = \"Hello, *^$ world! Let's remove punctuation_marks: shall we?\"\n",
    "output=\"\"\n",
    "for char in input_text:\n",
    "    if char not in punctuation_marks:\n",
    "        output+=char\n",
    "print(output)"
   ]
  },
  {
   "cell_type": "code",
   "execution_count": 8,
   "id": "54147349-8ff9-458e-b187-796e18f4a335",
   "metadata": {},
   "outputs": [],
   "source": [
    "\n",
    "def rp(text,marks):\n",
    "    pm=['.',',','|','(',')','{','}','[',']',':',';','/','?','&','!','`','~','@']\n",
    "    for i in text:\n",
    "        if i in marks:\n",
    "            text=text.replace(i,'')\n",
    "    return text\n"
   ]
  },
  {
   "cell_type": "code",
   "execution_count": 11,
   "id": "0200a8e4-1f79-4a9c-a8a1-4ca6ce08864e",
   "metadata": {},
   "outputs": [],
   "source": [
    "def rsw(input_text): \n",
    "    l=['an','and','for','and','am','is','a','to']\n",
    "    words=input_text.split()\n",
    "    filtered_words=[]\n",
    "    for word in words:\n",
    "        if word.lower() not in l:\n",
    "            filtered_words.append(word)\n",
    "    output_text = ' '.join(filtered_words)\n",
    "    return(output_text)"
   ]
  },
  {
   "cell_type": "code",
   "execution_count": 12,
   "id": "0c92edc4-b70e-41ce-a67b-115e930abd4f",
   "metadata": {},
   "outputs": [
    {
     "data": {
      "text/plain": [
       "'this avilable the next year after that'"
      ]
     },
     "execution_count": 12,
     "metadata": {},
     "output_type": "execute_result"
    }
   ],
   "source": [
    "rsw(\"is this avilable for the next year and after that\")"
   ]
  },
  {
   "cell_type": "code",
   "execution_count": null,
   "id": "bd6e8657-f5b7-4576-bd98-7a7a14851c0b",
   "metadata": {},
   "outputs": [],
   "source": []
  }
 ],
 "metadata": {
  "kernelspec": {
   "display_name": "Python 3 (ipykernel)",
   "language": "python",
   "name": "python3"
  },
  "language_info": {
   "codemirror_mode": {
    "name": "ipython",
    "version": 3
   },
   "file_extension": ".py",
   "mimetype": "text/x-python",
   "name": "python",
   "nbconvert_exporter": "python",
   "pygments_lexer": "ipython3",
   "version": "3.12.7"
  }
 },
 "nbformat": 4,
 "nbformat_minor": 5
}
